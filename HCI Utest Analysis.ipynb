{
 "cells": [
  {
   "cell_type": "markdown",
   "metadata": {},
   "source": [
    "# ALL"
   ]
  },
  {
   "cell_type": "code",
   "execution_count": 11,
   "metadata": {},
   "outputs": [],
   "source": [
    "import pandas as pd\n",
    "import numpy as np\n",
    "import matplotlib.pyplot as plt\n",
    "import seaborn as sns\n",
    "import statsmodels.formula.api as sm\n",
    "\n",
    "sns.set_style('whitegrid')\n",
    "\n",
    "import warnings\n",
    "warnings.filterwarnings('ignore')"
   ]
  },
  {
   "cell_type": "markdown",
   "metadata": {},
   "source": [
    "## TEXT"
   ]
  },
  {
   "cell_type": "markdown",
   "metadata": {},
   "source": [
    "In analysing the results from our tests, we decided to look at two things:\n",
    "\n",
    "- The comparison between the interfaces\n",
    "\n",
    "- User satisfaction with our game"
   ]
  },
  {
   "cell_type": "markdown",
   "metadata": {},
   "source": [
    "### Comparison of interfaces"
   ]
  },
  {
   "cell_type": "markdown",
   "metadata": {},
   "source": [
    "For comparing the two interfaces (Controller and Keyboard), we considered two perspectives:\n",
    "\n",
    "- Performance - quantified in time measurements\n",
    "\n",
    "- Ease of use / learning - users pick an interface"
   ]
  },
  {
   "cell_type": "markdown",
   "metadata": {},
   "source": [
    "#### Performance"
   ]
  },
  {
   "cell_type": "markdown",
   "metadata": {},
   "source": [
    "Below is a series of boxplots showing times taken to complete the same level across the two interfaces and test times.\n",
    "\n",
    "- The first shows the performance on the first try to complete the level, prior to switching interfaces. Here, the participant uses the same interface that was assigned to them for the tutorial.\n",
    "\n",
    "- The second shows the performance after switching interfaces. Note that the data in the first and second plots are paired, meaning the keyboard group in plot 1 is the same group as the controller group in plot 2.\n",
    "\n",
    "- The third plot shows the performance of all participants with each interface, regardless of order. In other words, this is a combination of the first two boxplots. The two categories in this plot are paired."
   ]
  },
  {
   "cell_type": "markdown",
   "metadata": {},
   "source": [
    "Across all of these plots, the comparison between medians of either interface yields no visible or distinct differences. The only noticeable difference is the spread of the distributions. The tests with the controller interface consistently has a smaller spread between the times measured. This tells us little about the quality of the interface however.\n",
    "\n",
    "More interestingly, there appears to be a significant difference between performance on the first and second test. There are a few explanations for this. For instance, the switching of interfaces could have a negative effect on performance because the participant has to learn the controls again. Alternatively, the tutorial could have had a positive effect on the performance on only the interface in which the participant had completed it. It would be worth investigating if there is a lasting effect on performance based on the configuration of the first time a user plays the tutorial."
   ]
  },
  {
   "cell_type": "markdown",
   "metadata": {},
   "source": [
    "#### Ease of use / learning"
   ]
  },
  {
   "cell_type": "markdown",
   "metadata": {},
   "source": [
    "Below is a series of histograms showing the distribution of answers to several questions regarding usability criteria set by us.\n",
    "\n",
    "- The first shows the answers to the question 'Which interface do you use more often?' with the options 'keyboard' and 'XBox controller'. This is meant to get an image of what interface our testers are most familiar with.\n",
    "\n",
    "- The second shows answers to the question 'Would you say it was easier to learn the controls of the game with laptop keys or the controller?'\n",
    "\n",
    "- The third show answers to the question 'With which interface was it easier to navigate through the interface?'"
   ]
  },
  {
   "cell_type": "markdown",
   "metadata": {},
   "source": [
    "Visible from this is that regardless of the higher familiarity with the keyboard interface, many users found the controller to be easier to learn and navigate the menu with. 14 out of 20 participants found the controller interface easier to learn as a control interface and 12 out of 20 participants said that they found it easier to navigate.\n",
    "\n",
    "We suspect there has been some confusion regarding the last question however, since we did not see many users navigating the menu effectively with the controller.\n",
    "\n",
    "With that, it still seems to be clear that the majority of users felt like the controller was easier to play with. Some reported this even though they were most familiar with keyboards, completed the tutorial with keyboard or without their times reflecting this preference.\n",
    "\n",
    "Among the answers to open-ended questions in the questionnaire were two answers that expressed critique towards the controls. These were targeted mainly towards the keyboard controls. This tells us that the controller interface could be perceived as the easier one due to the keyboard interface being worse.\n",
    "\n",
    "Another answer expressed a perceived lack of precision in controls. This could also explain the difference as controllers have an analogue input that can vary more than a keyboard. This means that this problem is less prominent for the controller interface."
   ]
  },
  {
   "cell_type": "markdown",
   "metadata": {},
   "source": [
    "### User experience"
   ]
  },
  {
   "cell_type": "markdown",
   "metadata": {},
   "source": [
    "We will go over a few aspects of the user experience. These aspects are split into two sections:\n",
    "\n",
    "- Heuristics in the form of 1-5 questions\n",
    "\n",
    "- Summary of open-ended questions"
   ]
  },
  {
   "cell_type": "markdown",
   "metadata": {},
   "source": [
    "#### Heuristics"
   ]
  },
  {
   "cell_type": "markdown",
   "metadata": {},
   "source": [
    "Below we have shown a summary of answers to questions relating to user satisfaction. One relating to the enjoyment of the user, one to the percieved realism in the game and one to the interaction with the graphical user interface."
   ]
  },
  {
   "cell_type": "markdown",
   "metadata": {},
   "source": [
    "The sentiment of these answers seem to indicate that most users were positive about these three aspects of the game. Realism score slightly lower than the rest, which we expected to see since we sacrificed realism for ease of use after the first usability test."
   ]
  },
  {
   "cell_type": "markdown",
   "metadata": {},
   "source": [
    "[MAPS?]"
   ]
  },
  {
   "cell_type": "markdown",
   "metadata": {},
   "source": [
    "We asked two questions relating to the quality of the controls:\n",
    "\n",
    "- How do you find the articulation over the controls?\n",
    "\n",
    "- How do you find the movements and manipulations in the game?\n",
    "\n",
    "These questions equate to the same heuristic, but we decided to show both."
   ]
  },
  {
   "cell_type": "markdown",
   "metadata": {},
   "source": [
    "These results seem favorable since the majority of participants answered with a full score of 5."
   ]
  },
  {
   "cell_type": "markdown",
   "metadata": {},
   "source": [
    "At the end of the survey, we asked participants if they would play the game again. All 20 of them answered 'yes'. We felt that no figure needs to be provided for this."
   ]
  },
  {
   "cell_type": "markdown",
   "metadata": {},
   "source": [
    "#### Open-ended questions"
   ]
  },
  {
   "cell_type": "markdown",
   "metadata": {},
   "source": [
    "We asked three open-ended questions after the test. We will quickly summarize the answers that were given. "
   ]
  },
  {
   "cell_type": "markdown",
   "metadata": {},
   "source": [
    "- 'How would you describe the effectiveness of the game?'\n",
    "\n",
    "All but 1 answered postively with the general sentiment that their expectations were met. The other answer was nuanced. This participant expressed that while the controls were intuitive to them, it was difficult to control for precise, small movements."
   ]
  },
  {
   "cell_type": "markdown",
   "metadata": {},
   "source": [
    "- 'Was there at any point of the game a moment when you did not know what to do?'\n",
    "\n",
    "11 participants said that no, they knew what to do at all times.\n",
    "\n",
    "4 said they didn't know what to do after missing a checkpoint\n",
    "\n",
    "2 mentioned a critical bug that they found in the game\n",
    "\n",
    "1 said they expected the controls for the keyboard to be inverted from what they were\n",
    "\n",
    "1 expressed difficulty navigating the menu with the XBox controller\n",
    "\n",
    "1 expressed that they didn't know what to do for 'a bit'\n",
    "\n",
    "We made a pie chart to better visualize this."
   ]
  },
  {
   "cell_type": "markdown",
   "metadata": {},
   "source": [
    "- 'Do you have any final remarks?'\n",
    "\n",
    "This question was optional and we received 16 responses.\n",
    "\n",
    "9 were comments with kind words, speaking positively about the game.\n",
    "\n",
    "2 were minor remarks regarding typos or visual aspects\n",
    "\n",
    "2 were remarks on the controls, again with a sentiment that they expected the keys to be inverted\n",
    "\n",
    "1 was a detailed comment on how the enjoyment in the game gets 'ruined' by missing a checkpoint and having to circle all the way around\n",
    "\n",
    "1 said they had trouble with depth perception in our game\n",
    "\n",
    "1 was a request to reimplement the barrel roll into the game\n",
    "\n",
    "We again made a pie chart to visualize these responses."
   ]
  },
  {
   "cell_type": "markdown",
   "metadata": {},
   "source": [
    "## POST"
   ]
  },
  {
   "cell_type": "markdown",
   "metadata": {},
   "source": [
    "### READING"
   ]
  },
  {
   "cell_type": "code",
   "execution_count": null,
   "metadata": {},
   "outputs": [
    {
     "data": {
      "text/html": [
       "<div>\n",
       "<style scoped>\n",
       "    .dataframe tbody tr th:only-of-type {\n",
       "        vertical-align: middle;\n",
       "    }\n",
       "\n",
       "    .dataframe tbody tr th {\n",
       "        vertical-align: top;\n",
       "    }\n",
       "\n",
       "    .dataframe thead th {\n",
       "        text-align: right;\n",
       "    }\n",
       "</style>\n",
       "<table border=\"1\" class=\"dataframe\">\n",
       "  <thead>\n",
       "    <tr style=\"text-align: right;\">\n",
       "      <th></th>\n",
       "      <th>Tijdstempel</th>\n",
       "      <th>How useful do you find the tutorial?</th>\n",
       "      <th>How much did you enjoy playing the game?</th>\n",
       "      <th>How realistic is our game (as a real game)?</th>\n",
       "      <th>If you played the game before, how much improvement from the first version did you see?</th>\n",
       "      <th>How would you rate your interaction with the GUI?</th>\n",
       "      <th>How would you describe the maps, the environmental design? [aesthetically pleasing]</th>\n",
       "      <th>How would you describe the maps, the environmental design? [distracting]</th>\n",
       "      <th>How would you describe the maps, the environmental design? [suitable ]</th>\n",
       "      <th>How much does the game design appeal to you?</th>\n",
       "      <th>...</th>\n",
       "      <th>Which type of interface do you use more often?</th>\n",
       "      <th>Would you want to play this game again?</th>\n",
       "      <th>How often do you play games?</th>\n",
       "      <th>Would you recommend this game to your friends and family?</th>\n",
       "      <th>Any further remarks?</th>\n",
       "      <th>Name (empty)</th>\n",
       "      <th>Time tutorial</th>\n",
       "      <th>Time 1</th>\n",
       "      <th>Time 2</th>\n",
       "      <th>Interface</th>\n",
       "    </tr>\n",
       "  </thead>\n",
       "  <tbody>\n",
       "    <tr>\n",
       "      <th>0</th>\n",
       "      <td>9-6-2022 13:16:30</td>\n",
       "      <td>5</td>\n",
       "      <td>5</td>\n",
       "      <td>5.0</td>\n",
       "      <td>NaN</td>\n",
       "      <td>3</td>\n",
       "      <td>very</td>\n",
       "      <td>a little bit</td>\n",
       "      <td>very</td>\n",
       "      <td>5</td>\n",
       "      <td>...</td>\n",
       "      <td>laptop keys</td>\n",
       "      <td>Yes</td>\n",
       "      <td>not that often; a few times a month</td>\n",
       "      <td>2</td>\n",
       "      <td>Only the arrows i was confused when to go up o...</td>\n",
       "      <td>NaN</td>\n",
       "      <td>101.0</td>\n",
       "      <td>95.0</td>\n",
       "      <td>268.0</td>\n",
       "      <td>K</td>\n",
       "    </tr>\n",
       "    <tr>\n",
       "      <th>1</th>\n",
       "      <td>9-6-2022 13:41:01</td>\n",
       "      <td>5</td>\n",
       "      <td>5</td>\n",
       "      <td>4.0</td>\n",
       "      <td>NaN</td>\n",
       "      <td>5</td>\n",
       "      <td>a lot</td>\n",
       "      <td>no at all</td>\n",
       "      <td>very</td>\n",
       "      <td>5</td>\n",
       "      <td>...</td>\n",
       "      <td>laptop keys</td>\n",
       "      <td>Yes</td>\n",
       "      <td>not that often; a few times a month</td>\n",
       "      <td>2</td>\n",
       "      <td>collecting coins in the right order was a bit ...</td>\n",
       "      <td>NaN</td>\n",
       "      <td>127.0</td>\n",
       "      <td>168.0</td>\n",
       "      <td>224.0</td>\n",
       "      <td>C</td>\n",
       "    </tr>\n",
       "    <tr>\n",
       "      <th>2</th>\n",
       "      <td>9-6-2022 16:09:32</td>\n",
       "      <td>5</td>\n",
       "      <td>5</td>\n",
       "      <td>4.0</td>\n",
       "      <td>5.0</td>\n",
       "      <td>4</td>\n",
       "      <td>a lot</td>\n",
       "      <td>not that much</td>\n",
       "      <td>a lot</td>\n",
       "      <td>4</td>\n",
       "      <td>...</td>\n",
       "      <td>laptop keys</td>\n",
       "      <td>Yes</td>\n",
       "      <td>not that often; a few times a month</td>\n",
       "      <td>2</td>\n",
       "      <td>I like how you improved the aestethic from the...</td>\n",
       "      <td>NaN</td>\n",
       "      <td>130.0</td>\n",
       "      <td>88.0</td>\n",
       "      <td>135.0</td>\n",
       "      <td>K</td>\n",
       "    </tr>\n",
       "    <tr>\n",
       "      <th>3</th>\n",
       "      <td>9-6-2022 16:11:32</td>\n",
       "      <td>5</td>\n",
       "      <td>5</td>\n",
       "      <td>5.0</td>\n",
       "      <td>5.0</td>\n",
       "      <td>5</td>\n",
       "      <td>a lot</td>\n",
       "      <td>no at all</td>\n",
       "      <td>very</td>\n",
       "      <td>4</td>\n",
       "      <td>...</td>\n",
       "      <td>laptop keys</td>\n",
       "      <td>Yes</td>\n",
       "      <td>often; several times a week</td>\n",
       "      <td>2</td>\n",
       "      <td>Nice experience when I succeed, feel bad about...</td>\n",
       "      <td>NaN</td>\n",
       "      <td>49.0</td>\n",
       "      <td>36.0</td>\n",
       "      <td>41.0</td>\n",
       "      <td>C</td>\n",
       "    </tr>\n",
       "    <tr>\n",
       "      <th>4</th>\n",
       "      <td>9-6-2022 16:21:08</td>\n",
       "      <td>4</td>\n",
       "      <td>5</td>\n",
       "      <td>4.0</td>\n",
       "      <td>4.0</td>\n",
       "      <td>3</td>\n",
       "      <td>a lot</td>\n",
       "      <td>no at all</td>\n",
       "      <td>a lot</td>\n",
       "      <td>4</td>\n",
       "      <td>...</td>\n",
       "      <td>laptop keys</td>\n",
       "      <td>Yes</td>\n",
       "      <td>not that often; a few times a month</td>\n",
       "      <td>2</td>\n",
       "      <td>Great work guys</td>\n",
       "      <td>NaN</td>\n",
       "      <td>20.0</td>\n",
       "      <td>54.0</td>\n",
       "      <td>21.0</td>\n",
       "      <td>K</td>\n",
       "    </tr>\n",
       "  </tbody>\n",
       "</table>\n",
       "<p>5 rows × 32 columns</p>\n",
       "</div>"
      ],
      "text/plain": [
       "         Tijdstempel  How useful do you find the tutorial?   \\\n",
       "0  9-6-2022 13:16:30                                      5   \n",
       "1  9-6-2022 13:41:01                                      5   \n",
       "2  9-6-2022 16:09:32                                      5   \n",
       "3  9-6-2022 16:11:32                                      5   \n",
       "4  9-6-2022 16:21:08                                      4   \n",
       "\n",
       "   How much did you enjoy playing the game?  \\\n",
       "0                                         5   \n",
       "1                                         5   \n",
       "2                                         5   \n",
       "3                                         5   \n",
       "4                                         5   \n",
       "\n",
       "   How realistic is our game (as a real game)?  \\\n",
       "0                                          5.0   \n",
       "1                                          4.0   \n",
       "2                                          4.0   \n",
       "3                                          5.0   \n",
       "4                                          4.0   \n",
       "\n",
       "   If you played the game before, how much improvement from the first version did you see?  \\\n",
       "0                                                NaN                                         \n",
       "1                                                NaN                                         \n",
       "2                                                5.0                                         \n",
       "3                                                5.0                                         \n",
       "4                                                4.0                                         \n",
       "\n",
       "   How would you rate your interaction with the GUI?  \\\n",
       "0                                                  3   \n",
       "1                                                  5   \n",
       "2                                                  4   \n",
       "3                                                  5   \n",
       "4                                                  3   \n",
       "\n",
       "  How would you describe the maps, the environmental design? [aesthetically pleasing]  \\\n",
       "0                                               very                                    \n",
       "1                                              a lot                                    \n",
       "2                                              a lot                                    \n",
       "3                                              a lot                                    \n",
       "4                                              a lot                                    \n",
       "\n",
       "  How would you describe the maps, the environmental design? [distracting]  \\\n",
       "0                                       a little bit                         \n",
       "1                                          no at all                         \n",
       "2                                      not that much                         \n",
       "3                                          no at all                         \n",
       "4                                          no at all                         \n",
       "\n",
       "  How would you describe the maps, the environmental design? [suitable ]  \\\n",
       "0                                               very                       \n",
       "1                                               very                       \n",
       "2                                              a lot                       \n",
       "3                                               very                       \n",
       "4                                              a lot                       \n",
       "\n",
       "   How much does the game design appeal to you?  ...  \\\n",
       "0                                             5  ...   \n",
       "1                                             5  ...   \n",
       "2                                             4  ...   \n",
       "3                                             4  ...   \n",
       "4                                             4  ...   \n",
       "\n",
       "   Which type of interface do you use more often?  \\\n",
       "0                                     laptop keys   \n",
       "1                                     laptop keys   \n",
       "2                                     laptop keys   \n",
       "3                                     laptop keys   \n",
       "4                                     laptop keys   \n",
       "\n",
       "   Would you want to play this game again?  \\\n",
       "0                                      Yes   \n",
       "1                                      Yes   \n",
       "2                                      Yes   \n",
       "3                                      Yes   \n",
       "4                                      Yes   \n",
       "\n",
       "          How often do you play games?  \\\n",
       "0  not that often; a few times a month   \n",
       "1  not that often; a few times a month   \n",
       "2  not that often; a few times a month   \n",
       "3          often; several times a week   \n",
       "4  not that often; a few times a month   \n",
       "\n",
       "  Would you recommend this game to your friends and family?  \\\n",
       "0                                                  2          \n",
       "1                                                  2          \n",
       "2                                                  2          \n",
       "3                                                  2          \n",
       "4                                                  2          \n",
       "\n",
       "                                Any further remarks? Name (empty)  \\\n",
       "0  Only the arrows i was confused when to go up o...          NaN   \n",
       "1  collecting coins in the right order was a bit ...          NaN   \n",
       "2  I like how you improved the aestethic from the...          NaN   \n",
       "3  Nice experience when I succeed, feel bad about...          NaN   \n",
       "4                                    Great work guys          NaN   \n",
       "\n",
       "  Time tutorial Time 1 Time 2 Interface  \n",
       "0         101.0   95.0  268.0         K  \n",
       "1         127.0  168.0  224.0         C  \n",
       "2         130.0   88.0  135.0         K  \n",
       "3          49.0   36.0   41.0         C  \n",
       "4          20.0   54.0   21.0         K  \n",
       "\n",
       "[5 rows x 32 columns]"
      ]
     },
     "execution_count": 2,
     "metadata": {},
     "output_type": "execute_result"
    }
   ],
   "source": [
    "results = pd.read_csv('POSTTEST.csv')\n",
    "results.dropna(0, subset=['Time 1'], inplace=True)\n",
    "results.reset_index(drop=True, inplace=True)\n",
    "\n",
    "results.head()"
   ]
  },
  {
   "cell_type": "code",
   "execution_count": null,
   "metadata": {},
   "outputs": [],
   "source": [
    "results['Most used interface'] = results['Which type of interface do you use more often?']\n",
    "results['Best interface ctrl'] = results['Would you say it was easier to learn the controls of the game with laptop keys or the controller?']\n",
    "results['Best interface nav'] = results['With which interface was it easier to navigate through the interface?']\n",
    "results['Most used interface'] = pd.Categorical(results['Most used interface'], categories=['laptop keys', 'XBox Controller'], ordered=True)\n",
    "results['Best interface ctrl'] = pd.Categorical(results['Best interface ctrl'], categories=['Laptop Keys', 'XBox Controller'], ordered=True)\n",
    "results['Best interface nav'] = pd.Categorical(results['Best interface nav'], categories=['Laptop keys', 'XBox Controller', 'Both'], ordered=True)\n",
    "\n",
    "results['Tutorial usefulness'] = pd.Categorical(results['How useful do you find the tutorial? '], categories=[1,2,3,4,5], ordered=True)\n",
    "results['Enjoyment'] = pd.Categorical(results['How much did you enjoy playing the game?'], categories=[1,2,3,4,5], ordered=True)\n",
    "results['Realism'] = pd.Categorical(results['How realistic is our game (as a real game)?'], categories=[1,2,3,4,5], ordered=True)\n",
    "results['GUI rating'] = pd.Categorical(results['How would you rate your interaction with the GUI?'], categories=[1,2,3,4,5], ordered=True)\n",
    "\n",
    "results['aesthetically pleasing'] = pd.Categorical(results['How would you describe the maps, the environmental design? [aesthetically pleasing]'], categories=['no at all', 'not that much', 'a little bit', 'a lot', 'very'], ordered=True)\n",
    "results['distracting'] = pd.Categorical(results['How would you describe the maps, the environmental design? [distracting]'], categories=['no at all', 'not that much', 'a little bit', 'a lot', 'very'], ordered=True)\n",
    "results['suitable'] = pd.Categorical(results['How would you describe the maps, the environmental design? [suitable ]'], categories=['no at all', 'not that much', 'a little bit', 'a lot', 'very'], ordered=True)\n",
    "\n",
    "results['Articulation'] = pd.Categorical(results['How do you find the articulation over the controls?'], categories=[1,2,3,4,5], ordered=True)\n",
    "results['Movement'] = pd.Categorical(results['How do you find the movements and manipulations in the game?'], categories=[1,2,3,4,5], ordered=True)\n"
   ]
  },
  {
   "cell_type": "markdown",
   "metadata": {},
   "source": [
    "### QUANTITATIVE"
   ]
  },
  {
   "cell_type": "markdown",
   "metadata": {},
   "source": [
    "#### INFERENTIAL STATS"
   ]
  },
  {
   "cell_type": "code",
   "execution_count": null,
   "metadata": {},
   "outputs": [
    {
     "name": "stdout",
     "output_type": "stream",
     "text": [
      "Keyboard mean:  58.6\n",
      "Controller mean:  67.7\n"
     ]
    },
    {
     "data": {
      "image/png": "[encoded data removed]",
      "text/plain": [
       "<Figure size 1296x720 with 3 Axes>"
      ]
     },
     "metadata": {},
     "output_type": "display_data"
    }
   ],
   "source": [
    "fig, ax = plt.subplots(1,3)\n",
    "fig.set_figheight(10)\n",
    "fig.set_figwidth(18)\n",
    "\n",
    "ax[0].set_title('Test LVL time after tutorial')\n",
    "ax[1].set_title('Test LVL time after switching interface')\n",
    "ax[2].set_title('Combined')\n",
    "\n",
    "keyboard_set = np.empty(len(results))\n",
    "controller_set = np.empty(len(results))\n",
    "for i in range(len(results)):\n",
    "    if results['Interface'][i] == 'K':\n",
    "        keyboard_set[i] = results['Time 1'][i]\n",
    "        controller_set[i] = results['Time 2'][i]\n",
    "    else:\n",
    "        keyboard_set[i] = results['Time 2'][i]\n",
    "        controller_set[i] = results['Time 1'][i]\n",
    "\n",
    "sns.boxplot(data=[keyboard_set, controller_set], palette=['Blue', 'Orange'], ax=ax[2])\n",
    "sns.boxplot(data=[results[results['Interface'] == 'K']['Time 1'], results[results['Interface'] == 'C']['Time 1']]\\\n",
    "    , palette=['Blue', 'Orange'], ax=ax[0])\n",
    "sns.boxplot(data=[results[results['Interface'] == 'K']['Time 2'], results[results['Interface'] == 'C']['Time 2']]\\\n",
    "    , palette=['Blue', 'Orange'], ax=ax[1])\n",
    "\n",
    "print('Keyboard mean: ', keyboard_set.mean())\n",
    "print('Controller mean: ', controller_set.mean())\n",
    "\n",
    "for p in ax:\n",
    "    p.set_xticks([0, 1])\n",
    "    p.set_xticklabels(['Keyboard', 'Controller'])\n",
    "    p.set_yticks(np.arange(0, 200, 20))\n",
    "    p.set_ylim([0, 180])\n",
    "\n",
    "ax[0].set_ylabel('Time')\n",
    "\n",
    "plt.show()"
   ]
  },
  {
   "cell_type": "code",
   "execution_count": null,
   "metadata": {},
   "outputs": [
    {
     "data": {
      "image/png": "[encoded data removed]",
      "text/plain": [
       "<Figure size 1296x720 with 3 Axes>"
      ]
     },
     "metadata": {},
     "output_type": "display_data"
    }
   ],
   "source": [
    "fig, ax = plt.subplots(1, 3)\n",
    "fig.set_figheight(10)\n",
    "fig.set_figwidth(18)\n",
    "sns.histplot(x='Most used interface', data=results, ax=ax[0])\n",
    "sns.histplot(x='Best interface ctrl', data=results, ax=ax[1])\n",
    "sns.histplot(x='Best interface nav', data=results, ax=ax[2])\n",
    "ax[0].set_title('Most used interface')\n",
    "ax[1].set_title('Easiest to learn (controls)')\n",
    "ax[2].set_title('Easiest to navigate')\n",
    "for p in ax:\n",
    "    p.set_xlabel('Responses')\n",
    "    p.set_xticks([0, 1])\n",
    "    p.set_ylim(0, 18)\n",
    "ax[2].set_xticks([0,1,2])\n",
    "\n",
    "plt.show()"
   ]
  },
  {
   "cell_type": "markdown",
   "metadata": {},
   "source": [
    "#### DESCRIPTIVE STATS"
   ]
  },
  {
   "cell_type": "markdown",
   "metadata": {},
   "source": [
    "Here are some benchmark type statistics."
   ]
  },
  {
   "cell_type": "code",
   "execution_count": null,
   "metadata": {},
   "outputs": [
    {
     "data": {
      "image/png": "[encoded data removed]",
      "text/plain": [
       "<Figure size 1440x360 with 3 Axes>"
      ]
     },
     "metadata": {},
     "output_type": "display_data"
    }
   ],
   "source": [
    "fig, ax = plt.subplots(1, 3)\n",
    "fig.set_figheight(5)\n",
    "fig.set_figwidth(20)\n",
    "\n",
    "sns.histplot(x='Enjoyment', data=results, ax=ax[0])\n",
    "sns.histplot(x='Realism', data=results, ax=ax[1])\n",
    "sns.histplot(x='GUI rating', data=results, ax=ax[2])\n",
    "\n",
    "\n",
    "for r in ax:\n",
    "    r.set_ylim(0, 15)\n",
    "    r.set_xlim(0.5, 5.5)\n",
    "\n",
    "plt.show()"
   ]
  },
  {
   "cell_type": "code",
   "execution_count": null,
   "metadata": {},
   "outputs": [
    {
     "data": {
      "image/png": "[encoded data removed]",
      "text/plain": [
       "<Figure size 1440x360 with 3 Axes>"
      ]
     },
     "metadata": {},
     "output_type": "display_data"
    }
   ],
   "source": [
    "fig, ax = plt.subplots(1, 3)\n",
    "fig.set_figheight(5)\n",
    "fig.set_figwidth(20)\n",
    "fig.suptitle('Maps')\n",
    "\n",
    "sns.histplot(x='aesthetically pleasing', data=results, ax=ax[0])\n",
    "sns.histplot(x='distracting', data=results, ax=ax[1])\n",
    "sns.histplot(x='suitable', data=results, ax=ax[2])\n",
    "\n",
    "\n",
    "for r in ax:\n",
    "    r.set_ylim(0, 15)\n",
    "    r.set_xlim(-0.5, 4.5)\n",
    "    r.set_xticks([0, 1, 2, 3, 4])\n",
    "    r.set_xticklabels([1, 2, 3, 4, 5])\n",
    "\n",
    "plt.show()"
   ]
  },
  {
   "cell_type": "code",
   "execution_count": null,
   "metadata": {},
   "outputs": [
    {
     "data": {
      "image/png": "[encoded data removed]",
      "text/plain": [
       "<Figure size 1440x360 with 2 Axes>"
      ]
     },
     "metadata": {},
     "output_type": "display_data"
    }
   ],
   "source": [
    "fig, ax = plt.subplots(1, 2)\n",
    "fig.set_figheight(5)\n",
    "fig.set_figwidth(20)\n",
    "fig.suptitle('Controls')\n",
    "\n",
    "sns.histplot(x='Articulation', data=results, ax=ax[0])\n",
    "sns.histplot(x='Movement', data=results, ax=ax[1])\n",
    "\n",
    "for r in ax:\n",
    "    r.set_ylim(0, 15)\n",
    "    r.set_xlim(-0.5, 4.5)\n",
    "    r.set_xticks([0, 1, 2, 3, 4])\n",
    "    r.set_xticklabels([1, 2, 3, 4, 5])\n",
    "\n",
    "plt.show()"
   ]
  },
  {
   "cell_type": "markdown",
   "metadata": {},
   "source": [
    "### Beepboop code block"
   ]
  },
  {
   "cell_type": "code",
   "execution_count": 19,
   "metadata": {},
   "outputs": [
    {
     "data": {
      "image/png": "[encoded data removed]",
      "text/plain": [
       "<Figure size 432x288 with 1 Axes>"
      ]
     },
     "metadata": {},
     "output_type": "display_data"
    }
   ],
   "source": [
    "y = np.array([11, 4, 2, 1, 1, 1])\n",
    "mylabels = ['No issues', 'After missing checkpoint', 'Bug', 'Unexpected controls', 'XBox menu navigation', 'unspecified issue']\n",
    "\n",
    "plt.pie(y, labels = mylabels)\n",
    "plt.title('Where users got stuck')\n",
    "plt.show() "
   ]
  },
  {
   "cell_type": "code",
   "execution_count": 21,
   "metadata": {},
   "outputs": [
    {
     "data": {
      "image/png": "[encoded data removed]",
      "text/plain": [
       "<Figure size 432x288 with 1 Axes>"
      ]
     },
     "metadata": {},
     "output_type": "display_data"
    }
   ],
   "source": [
    "y = np.array([9, 2, 2, 1, 1, 1])\n",
    "mylabels = ['Positive comment', 'Minor remark', 'Unexpected controls', 'Missing checkpoints is not fun', 'Depth perception deficit', 'Barrel roll']\n",
    "\n",
    "plt.pie(y, labels = mylabels)\n",
    "plt.title('Miscellaneous remarks')\n",
    "plt.show()"
   ]
  }
 ],
 "metadata": {
  "kernelspec": {
   "display_name": "Python 3.9.7 ('base')",
   "language": "python",
   "name": "python3"
  },
  "language_info": {
   "codemirror_mode": {
    "name": "ipython",
    "version": 3
   },
   "file_extension": ".py",
   "mimetype": "text/x-python",
   "name": "python",
   "nbconvert_exporter": "python",
   "pygments_lexer": "ipython3",
   "version": "3.9.7"
  },
  "orig_nbformat": 4,
  "vscode": {
   "interpreter": {
    "hash": "2a201e48950aa77fa593e8b0ee63c29014ce4bcdb11f60406aa4b1806b8b4a78"
   }
  }
 },
 "nbformat": 4,
 "nbformat_minor": 2
}
